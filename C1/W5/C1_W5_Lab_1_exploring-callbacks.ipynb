{
 "cells": [
  {
   "cell_type": "markdown",
   "metadata": {
    "colab_type": "text",
    "id": "0c_TYhQOUe1j"
   },
   "source": [
    "# Ungraded Lab: Introduction to Keras callbacks\n",
    "\n",
    "In Keras, `Callback` is a Python class meant to be subclassed to provide specific functionality, with a set of methods called at various stages of training (including batch/epoch start and ends), testing, and predicting. Callbacks are useful to get a view on internal states and statistics of the model during training. The methods of the callbacks can  be called at different stages of training/evaluating/inference. Keras has available [callbacks](https://keras.io/api/callbacks/) and we'll show how you can use it in the following sections. Please click the **Open in Colab** badge above to complete this exercise in Colab. This will allow you to take advantage of the free GPU runtime (for faster training) and compatibility with all the packages needed in this notebook."
   ]
  },
  {
   "cell_type": "markdown",
   "metadata": {
    "colab_type": "text",
    "id": "Uyl69EyRQx-f"
   },
   "source": [
    "## Model methods that take callbacks\n",
    "Users can supply a list of callbacks to the following `tf.keras.Model` methods:\n",
    "* [`fit()`](https://www.tensorflow.org/versions/r2.0/api_docs/python/tf/keras/Model#fit), [`fit_generator()`](https://www.tensorflow.org/versions/r2.0/api_docs/python/tf/keras/Model#fit_generator)\n",
    "Trains the model for a fixed number of epochs (iterations over a dataset, or data yielded batch-by-batch by a Python generator).\n",
    "* [`evaluate()`](https://www.tensorflow.org/versions/r2.0/api_docs/python/tf/keras/Model#evaluate), [`evaluate_generator()`](https://www.tensorflow.org/versions/r2.0/api_docs/python/tf/keras/Model#evaluate_generator)\n",
    "Evaluates the model for given data or data generator. Outputs the loss and metric values from the evaluation.\n",
    "* [`predict()`](https://www.tensorflow.org/versions/r2.0/api_docs/python/tf/keras/Model#predict), [`predict_generator()`](https://www.tensorflow.org/versions/r2.0/api_docs/python/tf/keras/Model#predict_generator)\n",
    "Generates output predictions for the input data or data generator."
   ]
  },
  {
   "cell_type": "markdown",
   "metadata": {},
   "source": [
    "## Imports"
   ]
  },
  {
   "cell_type": "code",
   "execution_count": 1,
   "metadata": {
    "colab": {},
    "colab_type": "code",
    "id": "AlT1Kh3uA9lZ"
   },
   "outputs": [
    {
     "name": "stdout",
     "output_type": "stream",
     "text": [
      "Version:  2.1.0\n"
     ]
    }
   ],
   "source": [
    "from __future__ import absolute_import, division, print_function, unicode_literals\n",
    "import tensorflow as tf\n",
    "import tensorflow_datasets as tfds\n",
    "import matplotlib.pyplot as plt\n",
    "import io\n",
    "from PIL import Image\n",
    "\n",
    "from tensorflow.keras.callbacks import TensorBoard, EarlyStopping, LearningRateScheduler, ModelCheckpoint, CSVLogger, ReduceLROnPlateau\n",
    "%load_ext tensorboard\n",
    "\n",
    "import os\n",
    "import matplotlib.pylab as plt\n",
    "import numpy as np\n",
    "import math\n",
    "import datetime\n",
    "import pandas as pd\n",
    "\n",
    "print(\"Version: \", tf.__version__)\n",
    "tf.get_logger().setLevel('INFO')"
   ]
  },
  {
   "cell_type": "markdown",
   "metadata": {
    "colab_type": "text",
    "id": "HnSljqtsXKfb"
   },
   "source": [
    "# Examples of Keras callback applications\n",
    "The following section will guide you through creating simple [Callback](https://keras.io/api/callbacks/) applications."
   ]
  },
  {
   "cell_type": "code",
   "execution_count": 2,
   "metadata": {
    "colab": {},
    "colab_type": "code",
    "id": "spskRuxvCYQE"
   },
   "outputs": [],
   "source": [
    "# Download and prepare the horses or humans dataset\n",
    "\n",
    "# horses_or_humans 3.0.0 has already been downloaded for you\n",
    "path = \"./tensorflow_datasets\"\n",
    "splits, info = tfds.load('horses_or_humans', data_dir=path, as_supervised=True, with_info=True, split=['train[:80%]', 'train[80%:]', 'test'])\n",
    "\n",
    "(train_examples, validation_examples, test_examples) = splits\n",
    "\n",
    "num_examples = info.splits['train'].num_examples\n",
    "num_classes = info.features['label'].num_classes"
   ]
  },
  {
   "cell_type": "code",
   "execution_count": 3,
   "metadata": {
    "colab": {},
    "colab_type": "code",
    "id": "veIsubKTCZsN"
   },
   "outputs": [],
   "source": [
    "SIZE = 150 #@param {type:\"slider\", min:64, max:300, step:1}\n",
    "IMAGE_SIZE = (SIZE, SIZE)"
   ]
  },
  {
   "cell_type": "code",
   "execution_count": 4,
   "metadata": {
    "colab": {},
    "colab_type": "code",
    "id": "faajLlErCb1S"
   },
   "outputs": [],
   "source": [
    "def format_image(image, label):\n",
    "  image = tf.image.resize(image, IMAGE_SIZE) / 255.0\n",
    "  return  image, label"
   ]
  },
  {
   "cell_type": "code",
   "execution_count": 5,
   "metadata": {
    "colab": {},
    "colab_type": "code",
    "id": "AVXPuU12Cdka"
   },
   "outputs": [],
   "source": [
    "BATCH_SIZE = 32 #@param {type:\"integer\"}"
   ]
  },
  {
   "cell_type": "code",
   "execution_count": 6,
   "metadata": {
    "colab": {},
    "colab_type": "code",
    "id": "0lHDkFVaCe48"
   },
   "outputs": [],
   "source": [
    "train_batches = train_examples.shuffle(num_examples // 4).map(format_image).batch(BATCH_SIZE).prefetch(1)\n",
    "validation_batches = validation_examples.map(format_image).batch(BATCH_SIZE).prefetch(1)\n",
    "test_batches = test_examples.map(format_image).batch(1)"
   ]
  },
  {
   "cell_type": "code",
   "execution_count": 7,
   "metadata": {
    "colab": {},
    "colab_type": "code",
    "id": "DxsCqEIkCgUt"
   },
   "outputs": [
    {
     "data": {
      "text/plain": [
       "TensorShape([32, 150, 150, 3])"
      ]
     },
     "execution_count": 7,
     "metadata": {},
     "output_type": "execute_result"
    }
   ],
   "source": [
    "for image_batch, label_batch in train_batches.take(1):\n",
    "  pass\n",
    "\n",
    "image_batch.shape"
   ]
  },
  {
   "cell_type": "code",
   "execution_count": 8,
   "metadata": {
    "colab": {},
    "colab_type": "code",
    "id": "iDBpWvHXCh2A"
   },
   "outputs": [],
   "source": [
    "def build_model(dense_units, input_shape=IMAGE_SIZE + (3,)):\n",
    "  model = tf.keras.models.Sequential([\n",
    "      tf.keras.layers.Conv2D(16, (3, 3), activation='relu', input_shape=input_shape),\n",
    "      tf.keras.layers.MaxPooling2D(2, 2),\n",
    "      tf.keras.layers.Conv2D(32, (3, 3), activation='relu'),\n",
    "      tf.keras.layers.MaxPooling2D(2, 2),\n",
    "      tf.keras.layers.Conv2D(64, (3, 3), activation='relu'),\n",
    "      tf.keras.layers.MaxPooling2D(2, 2),\n",
    "      tf.keras.layers.Flatten(),\n",
    "      tf.keras.layers.Dense(dense_units, activation='relu'),\n",
    "      tf.keras.layers.Dense(2, activation='softmax')\n",
    "  ])\n",
    "  return model"
   ]
  },
  {
   "cell_type": "markdown",
   "metadata": {
    "colab_type": "text",
    "id": "0ZKGkjagENSw"
   },
   "source": [
    "## [TensorBoard](https://keras.io/api/callbacks/tensorboard/)\n",
    "\n",
    "Enable visualizations for TensorBoard."
   ]
  },
  {
   "cell_type": "code",
   "execution_count": 9,
   "metadata": {
    "colab": {},
    "colab_type": "code",
    "id": "CeiD2WVEHbex"
   },
   "outputs": [],
   "source": [
    "!rm -rf logs"
   ]
  },
  {
   "cell_type": "code",
   "execution_count": 10,
   "metadata": {
    "colab": {},
    "colab_type": "code",
    "id": "PpLwPLnAEOzv"
   },
   "outputs": [
    {
     "name": "stdout",
     "output_type": "stream",
     "text": [
      "Epoch 1/10\n",
      "26/26 [==============================] - 21s 813ms/step - loss: 0.6710 - accuracy: 0.6168 - val_loss: 0.6603 - val_accuracy: 0.5512\n",
      "Epoch 2/10\n",
      "26/26 [==============================] - 20s 784ms/step - loss: 0.6051 - accuracy: 0.7384 - val_loss: 0.6245 - val_accuracy: 0.5951\n",
      "Epoch 3/10\n",
      "26/26 [==============================] - 21s 804ms/step - loss: 0.5353 - accuracy: 0.7689 - val_loss: 0.4984 - val_accuracy: 0.7756\n",
      "Epoch 4/10\n",
      "26/26 [==============================] - 21s 819ms/step - loss: 0.4733 - accuracy: 0.7932 - val_loss: 0.4384 - val_accuracy: 0.8146\n",
      "Epoch 5/10\n",
      "26/26 [==============================] - 22s 835ms/step - loss: 0.3944 - accuracy: 0.8455 - val_loss: 0.3849 - val_accuracy: 0.8146\n",
      "Epoch 6/10\n",
      "26/26 [==============================] - 21s 823ms/step - loss: 0.3404 - accuracy: 0.8759 - val_loss: 0.3370 - val_accuracy: 0.8439\n",
      "Epoch 7/10\n",
      "26/26 [==============================] - 22s 827ms/step - loss: 0.2772 - accuracy: 0.9051 - val_loss: 0.2385 - val_accuracy: 0.9220\n",
      "Epoch 8/10\n",
      "26/26 [==============================] - 23s 893ms/step - loss: 0.2471 - accuracy: 0.9161 - val_loss: 0.1943 - val_accuracy: 0.9415\n",
      "Epoch 9/10\n",
      "26/26 [==============================] - 23s 869ms/step - loss: 0.1710 - accuracy: 0.9659 - val_loss: 0.1552 - val_accuracy: 0.9512\n",
      "Epoch 10/10\n",
      "26/26 [==============================] - 23s 877ms/step - loss: 0.1489 - accuracy: 0.9647 - val_loss: 0.1243 - val_accuracy: 0.9854\n"
     ]
    },
    {
     "data": {
      "text/plain": [
       "<tensorflow.python.keras.callbacks.History at 0x78a750ba0c10>"
      ]
     },
     "execution_count": 10,
     "metadata": {},
     "output_type": "execute_result"
    }
   ],
   "source": [
    "model = build_model(dense_units=256)\n",
    "model.compile(\n",
    "    optimizer='sgd',\n",
    "    loss='sparse_categorical_crossentropy', \n",
    "    metrics=['accuracy'])\n",
    "  \n",
    "logdir = os.path.join(\"logs\", datetime.datetime.now().strftime(\"%Y%m%d-%H%M%S\"))\n",
    "tensorboard_callback = tf.keras.callbacks.TensorBoard(logdir)\n",
    "\n",
    "model.fit(train_batches, \n",
    "          epochs=10, \n",
    "          validation_data=validation_batches, \n",
    "          callbacks=[tensorboard_callback])"
   ]
  },
  {
   "cell_type": "code",
   "execution_count": 11,
   "metadata": {
    "colab": {},
    "colab_type": "code",
    "id": "iJunWOjZE0ir"
   },
   "outputs": [
    {
     "data": {
      "text/plain": [
       "Reusing TensorBoard on port 6006 (pid 1363), started 0:51:30 ago. (Use '!kill 1363' to kill it.)"
      ]
     },
     "metadata": {},
     "output_type": "display_data"
    },
    {
     "data": {
      "text/html": [
       "\n",
       "      <iframe id=\"tensorboard-frame-907e79d97061ca58\" width=\"100%\" height=\"800\" frameborder=\"0\">\n",
       "      </iframe>\n",
       "      <script>\n",
       "        (function() {\n",
       "          const frame = document.getElementById(\"tensorboard-frame-907e79d97061ca58\");\n",
       "          const url = new URL(\"/\", window.location);\n",
       "          url.port = 6006;\n",
       "          frame.src = url;\n",
       "        })();\n",
       "      </script>\n",
       "  "
      ],
      "text/plain": [
       "<IPython.core.display.HTML object>"
      ]
     },
     "metadata": {},
     "output_type": "display_data"
    }
   ],
   "source": [
    "%tensorboard --logdir logs"
   ]
  },
  {
   "cell_type": "markdown",
   "metadata": {
    "colab_type": "text",
    "id": "wv9H4Pc2Mfl7"
   },
   "source": [
    "## [Model Checkpoint](https://keras.io/api/callbacks/model_checkpoint/)\n",
    "\n",
    "Callback to save the Keras model or model weights at some frequency."
   ]
  },
  {
   "cell_type": "code",
   "execution_count": 12,
   "metadata": {
    "colab": {},
    "colab_type": "code",
    "id": "PYV4FJ8iMmDq"
   },
   "outputs": [
    {
     "name": "stdout",
     "output_type": "stream",
     "text": [
      "Epoch 1/5\n",
      "\n",
      "Epoch 00001: saving model to weights.01-0.69.h5\n",
      "26/26 - 23s - loss: 0.6855 - accuracy: 0.5341 - val_loss: 0.6880 - val_accuracy: 0.4390\n",
      "Epoch 2/5\n",
      "\n",
      "Epoch 00002: saving model to weights.02-0.67.h5\n",
      "26/26 - 22s - loss: 0.6703 - accuracy: 0.5645 - val_loss: 0.6742 - val_accuracy: 0.5073\n",
      "Epoch 3/5\n",
      "\n",
      "Epoch 00003: saving model to weights.03-0.65.h5\n",
      "26/26 - 22s - loss: 0.6500 - accuracy: 0.6618 - val_loss: 0.6499 - val_accuracy: 0.6683\n",
      "Epoch 4/5\n",
      "\n",
      "Epoch 00004: saving model to weights.04-0.60.h5\n",
      "26/26 - 22s - loss: 0.6191 - accuracy: 0.7105 - val_loss: 0.5999 - val_accuracy: 0.7512\n",
      "Epoch 5/5\n",
      "\n",
      "Epoch 00005: saving model to weights.05-0.55.h5\n",
      "26/26 - 22s - loss: 0.5702 - accuracy: 0.7713 - val_loss: 0.5476 - val_accuracy: 0.7268\n"
     ]
    },
    {
     "data": {
      "text/plain": [
       "<tensorflow.python.keras.callbacks.History at 0x78a73a3cd9d0>"
      ]
     },
     "execution_count": 12,
     "metadata": {},
     "output_type": "execute_result"
    }
   ],
   "source": [
    "model = build_model(dense_units=256)\n",
    "model.compile(\n",
    "    optimizer='sgd',\n",
    "    loss='sparse_categorical_crossentropy', \n",
    "    metrics=['accuracy'])\n",
    "  \n",
    "model.fit(train_batches, \n",
    "          epochs=5, \n",
    "          validation_data=validation_batches, \n",
    "          verbose=2,\n",
    "          callbacks=[ModelCheckpoint('weights.{epoch:02d}-{val_loss:.2f}.h5', verbose=1),\n",
    "          ])"
   ]
  },
  {
   "cell_type": "code",
   "execution_count": 13,
   "metadata": {
    "colab": {},
    "colab_type": "code",
    "id": "oGvjQ8IlMmK6"
   },
   "outputs": [
    {
     "name": "stdout",
     "output_type": "stream",
     "text": [
      "\n",
      "Epoch 00001: saving model to saved_model\n",
      "WARNING:tensorflow:From /opt/conda/lib/python3.7/site-packages/tensorflow_core/python/ops/resource_variable_ops.py:1786: calling BaseResourceVariable.__init__ (from tensorflow.python.ops.resource_variable_ops) with constraint is deprecated and will be removed in a future version.\n",
      "Instructions for updating:\n",
      "If using Keras pass *_constraint arguments to layers.\n"
     ]
    },
    {
     "name": "stderr",
     "output_type": "stream",
     "text": [
      "WARNING:tensorflow:From /opt/conda/lib/python3.7/site-packages/tensorflow_core/python/ops/resource_variable_ops.py:1786: calling BaseResourceVariable.__init__ (from tensorflow.python.ops.resource_variable_ops) with constraint is deprecated and will be removed in a future version.\n",
      "Instructions for updating:\n",
      "If using Keras pass *_constraint arguments to layers.\n"
     ]
    },
    {
     "name": "stdout",
     "output_type": "stream",
     "text": [
      "INFO:tensorflow:Assets written to: saved_model/assets\n"
     ]
    },
    {
     "name": "stderr",
     "output_type": "stream",
     "text": [
      "INFO:tensorflow:Assets written to: saved_model/assets\n"
     ]
    },
    {
     "name": "stdout",
     "output_type": "stream",
     "text": [
      "26/26 - 27s - loss: 0.6768 - accuracy: 0.5560 - val_loss: 0.6863 - val_accuracy: 0.4439\n"
     ]
    },
    {
     "data": {
      "text/plain": [
       "<tensorflow.python.keras.callbacks.History at 0x78a73a24dd90>"
      ]
     },
     "execution_count": 13,
     "metadata": {},
     "output_type": "execute_result"
    }
   ],
   "source": [
    "model = build_model(dense_units=256)\n",
    "model.compile(\n",
    "    optimizer='sgd',\n",
    "    loss='sparse_categorical_crossentropy', \n",
    "    metrics=['accuracy'])\n",
    "  \n",
    "model.fit(train_batches, \n",
    "          epochs=1, \n",
    "          validation_data=validation_batches, \n",
    "          verbose=2,\n",
    "          callbacks=[ModelCheckpoint('saved_model', verbose=1)\n",
    "          ])"
   ]
  },
  {
   "cell_type": "code",
   "execution_count": 14,
   "metadata": {
    "colab": {},
    "colab_type": "code",
    "id": "Y1ConwoB0EjD"
   },
   "outputs": [
    {
     "name": "stdout",
     "output_type": "stream",
     "text": [
      "Epoch 1/2\n",
      "\n",
      "Epoch 00001: saving model to model.h5\n",
      "26/26 - 22s - loss: 0.6780 - accuracy: 0.5669 - val_loss: 0.6630 - val_accuracy: 0.6195\n",
      "Epoch 2/2\n",
      "\n",
      "Epoch 00002: saving model to model.h5\n",
      "26/26 - 22s - loss: 0.6482 - accuracy: 0.6496 - val_loss: 0.6320 - val_accuracy: 0.7805\n"
     ]
    },
    {
     "data": {
      "text/plain": [
       "<tensorflow.python.keras.callbacks.History at 0x78a73a034710>"
      ]
     },
     "execution_count": 14,
     "metadata": {},
     "output_type": "execute_result"
    }
   ],
   "source": [
    "model = build_model(dense_units=256)\n",
    "model.compile(\n",
    "    optimizer='sgd',\n",
    "    loss='sparse_categorical_crossentropy', \n",
    "    metrics=['accuracy'])\n",
    "  \n",
    "model.fit(train_batches, \n",
    "          epochs=2, \n",
    "          validation_data=validation_batches, \n",
    "          verbose=2,\n",
    "          callbacks=[ModelCheckpoint('model.h5', verbose=1)\n",
    "          ])"
   ]
  },
  {
   "cell_type": "markdown",
   "metadata": {
    "colab_type": "text",
    "id": "kptNF0--Lznv"
   },
   "source": [
    "## [Early stopping](https://keras.io/api/callbacks/early_stopping/)\n",
    "\n",
    "Stop training when a monitored metric has stopped improving."
   ]
  },
  {
   "cell_type": "code",
   "execution_count": 15,
   "metadata": {
    "colab": {},
    "colab_type": "code",
    "id": "KJOJTJYdCkdY"
   },
   "outputs": [
    {
     "name": "stdout",
     "output_type": "stream",
     "text": [
      "Epoch 1/50\n",
      "26/26 - 22s - loss: 0.6701 - accuracy: 0.5949 - val_loss: 0.6637 - val_accuracy: 0.5171\n",
      "Epoch 2/50\n",
      "26/26 - 20s - loss: 0.6281 - accuracy: 0.7129 - val_loss: 0.6184 - val_accuracy: 0.6585\n",
      "Epoch 3/50\n",
      "26/26 - 20s - loss: 0.5787 - accuracy: 0.7287 - val_loss: 0.5878 - val_accuracy: 0.6488\n",
      "Epoch 4/50\n",
      "26/26 - 20s - loss: 0.5091 - accuracy: 0.7822 - val_loss: 0.4796 - val_accuracy: 0.8341\n",
      "Epoch 5/50\n",
      "26/26 - 20s - loss: 0.4256 - accuracy: 0.8394 - val_loss: 0.3659 - val_accuracy: 0.8878\n",
      "Epoch 6/50\n",
      "26/26 - 20s - loss: 0.3712 - accuracy: 0.8735 - val_loss: 0.3150 - val_accuracy: 0.9024\n",
      "Epoch 7/50\n",
      "26/26 - 20s - loss: 0.3102 - accuracy: 0.8844 - val_loss: 0.3391 - val_accuracy: 0.8732\n",
      "Epoch 8/50\n",
      "26/26 - 20s - loss: 0.2468 - accuracy: 0.9185 - val_loss: 0.1928 - val_accuracy: 0.9659\n",
      "Epoch 9/50\n",
      "26/26 - 19s - loss: 0.1977 - accuracy: 0.9355 - val_loss: 0.1828 - val_accuracy: 0.9512\n",
      "Epoch 10/50\n",
      "26/26 - 20s - loss: 0.1696 - accuracy: 0.9513 - val_loss: 0.1721 - val_accuracy: 0.9463\n",
      "Epoch 11/50\n",
      "26/26 - 20s - loss: 0.1695 - accuracy: 0.9465 - val_loss: 0.1143 - val_accuracy: 0.9756\n",
      "Epoch 12/50\n",
      "26/26 - 20s - loss: 0.1169 - accuracy: 0.9647 - val_loss: 0.0997 - val_accuracy: 0.9805\n",
      "Epoch 13/50\n",
      "26/26 - 20s - loss: 0.1003 - accuracy: 0.9720 - val_loss: 0.0895 - val_accuracy: 0.9805\n",
      "Epoch 14/50\n",
      "Restoring model weights from the end of the best epoch.\n",
      "26/26 - 20s - loss: 0.1150 - accuracy: 0.9647 - val_loss: 0.0907 - val_accuracy: 0.9756\n",
      "Epoch 00014: early stopping\n"
     ]
    },
    {
     "data": {
      "text/plain": [
       "<tensorflow.python.keras.callbacks.History at 0x78a739ef7a10>"
      ]
     },
     "execution_count": 15,
     "metadata": {},
     "output_type": "execute_result"
    }
   ],
   "source": [
    "model = build_model(dense_units=256)\n",
    "model.compile(\n",
    "    optimizer='sgd',\n",
    "    loss='sparse_categorical_crossentropy', \n",
    "    metrics=['accuracy'])\n",
    "  \n",
    "model.fit(train_batches, \n",
    "          epochs=50, \n",
    "          validation_data=validation_batches, \n",
    "          verbose=2,\n",
    "          callbacks=[EarlyStopping(\n",
    "              patience=3,\n",
    "              min_delta=0.05,\n",
    "              baseline=0.8,\n",
    "              mode='min',\n",
    "              monitor='val_loss',\n",
    "              restore_best_weights=True,\n",
    "              verbose=1)\n",
    "          ])"
   ]
  },
  {
   "cell_type": "markdown",
   "metadata": {
    "colab_type": "text",
    "id": "8mDzWUD4Pqq5"
   },
   "source": [
    "## [CSV Logger](https://keras.io/api/callbacks/csv_logger/)\n",
    "\n",
    "Callback that streams epoch results to a CSV file."
   ]
  },
  {
   "cell_type": "code",
   "execution_count": 16,
   "metadata": {
    "colab": {},
    "colab_type": "code",
    "id": "cffnMpmGPtMh"
   },
   "outputs": [
    {
     "name": "stdout",
     "output_type": "stream",
     "text": [
      "Epoch 1/5\n",
      "26/26 [==============================] - 21s 799ms/step - loss: 0.6573 - accuracy: 0.5803 - val_loss: 0.6114 - val_accuracy: 0.7512\n",
      "Epoch 2/5\n",
      "26/26 [==============================] - 20s 775ms/step - loss: 0.5890 - accuracy: 0.7019 - val_loss: 0.5483 - val_accuracy: 0.7610\n",
      "Epoch 3/5\n",
      "26/26 [==============================] - 20s 769ms/step - loss: 0.5400 - accuracy: 0.7202 - val_loss: 0.6074 - val_accuracy: 0.6244\n",
      "Epoch 4/5\n",
      "26/26 [==============================] - 20s 765ms/step - loss: 0.4917 - accuracy: 0.7616 - val_loss: 0.4572 - val_accuracy: 0.7951\n",
      "Epoch 5/5\n",
      "26/26 [==============================] - 20s 759ms/step - loss: 0.4109 - accuracy: 0.8382 - val_loss: 0.4207 - val_accuracy: 0.8244\n"
     ]
    },
    {
     "data": {
      "text/plain": [
       "<tensorflow.python.keras.callbacks.History at 0x78a739e05d90>"
      ]
     },
     "execution_count": 16,
     "metadata": {},
     "output_type": "execute_result"
    }
   ],
   "source": [
    "model = build_model(dense_units=256)\n",
    "model.compile(\n",
    "    optimizer='sgd',\n",
    "    loss='sparse_categorical_crossentropy', \n",
    "    metrics=['accuracy'])\n",
    "  \n",
    "csv_file = 'training.csv'\n",
    "\n",
    "model.fit(train_batches, \n",
    "          epochs=5, \n",
    "          validation_data=validation_batches, \n",
    "          callbacks=[CSVLogger(csv_file)\n",
    "          ])"
   ]
  },
  {
   "cell_type": "code",
   "execution_count": 17,
   "metadata": {
    "colab": {},
    "colab_type": "code",
    "id": "B9tkYi03QV7R"
   },
   "outputs": [
    {
     "data": {
      "text/html": [
       "<div>\n",
       "<style scoped>\n",
       "    .dataframe tbody tr th:only-of-type {\n",
       "        vertical-align: middle;\n",
       "    }\n",
       "\n",
       "    .dataframe tbody tr th {\n",
       "        vertical-align: top;\n",
       "    }\n",
       "\n",
       "    .dataframe thead th {\n",
       "        text-align: right;\n",
       "    }\n",
       "</style>\n",
       "<table border=\"1\" class=\"dataframe\">\n",
       "  <thead>\n",
       "    <tr style=\"text-align: right;\">\n",
       "      <th></th>\n",
       "      <th>epoch</th>\n",
       "      <th>accuracy</th>\n",
       "      <th>loss</th>\n",
       "      <th>val_accuracy</th>\n",
       "      <th>val_loss</th>\n",
       "    </tr>\n",
       "  </thead>\n",
       "  <tbody>\n",
       "    <tr>\n",
       "      <th>0</th>\n",
       "      <td>0</td>\n",
       "      <td>0.580292</td>\n",
       "      <td>0.658058</td>\n",
       "      <td>0.751219</td>\n",
       "      <td>0.611396</td>\n",
       "    </tr>\n",
       "    <tr>\n",
       "      <th>1</th>\n",
       "      <td>1</td>\n",
       "      <td>0.701947</td>\n",
       "      <td>0.589347</td>\n",
       "      <td>0.760976</td>\n",
       "      <td>0.548254</td>\n",
       "    </tr>\n",
       "    <tr>\n",
       "      <th>2</th>\n",
       "      <td>2</td>\n",
       "      <td>0.720195</td>\n",
       "      <td>0.541142</td>\n",
       "      <td>0.624390</td>\n",
       "      <td>0.607408</td>\n",
       "    </tr>\n",
       "    <tr>\n",
       "      <th>3</th>\n",
       "      <td>3</td>\n",
       "      <td>0.761557</td>\n",
       "      <td>0.491399</td>\n",
       "      <td>0.795122</td>\n",
       "      <td>0.457193</td>\n",
       "    </tr>\n",
       "    <tr>\n",
       "      <th>4</th>\n",
       "      <td>4</td>\n",
       "      <td>0.838200</td>\n",
       "      <td>0.410809</td>\n",
       "      <td>0.824390</td>\n",
       "      <td>0.420689</td>\n",
       "    </tr>\n",
       "  </tbody>\n",
       "</table>\n",
       "</div>"
      ],
      "text/plain": [
       "   epoch  accuracy      loss  val_accuracy  val_loss\n",
       "0      0  0.580292  0.658058      0.751219  0.611396\n",
       "1      1  0.701947  0.589347      0.760976  0.548254\n",
       "2      2  0.720195  0.541142      0.624390  0.607408\n",
       "3      3  0.761557  0.491399      0.795122  0.457193\n",
       "4      4  0.838200  0.410809      0.824390  0.420689"
      ]
     },
     "execution_count": 17,
     "metadata": {},
     "output_type": "execute_result"
    }
   ],
   "source": [
    "pd.read_csv(csv_file).head()"
   ]
  },
  {
   "cell_type": "markdown",
   "metadata": {
    "colab_type": "text",
    "id": "Dt9C2Y9fRBKN"
   },
   "source": [
    "## [Learning Rate Scheduler](https://keras.io/api/callbacks/learning_rate_scheduler/)\n",
    "\n",
    "Updates the learning rate during training."
   ]
  },
  {
   "cell_type": "code",
   "execution_count": 18,
   "metadata": {
    "colab": {},
    "colab_type": "code",
    "id": "aJi-xY2VRC03"
   },
   "outputs": [
    {
     "name": "stdout",
     "output_type": "stream",
     "text": [
      "\n",
      "Epoch 00001: LearningRateScheduler reducing learning rate to 0.005.\n",
      "Epoch 1/5\n",
      "26/26 [==============================] - 30s 1s/step - loss: 0.6745 - accuracy: 0.5693 - val_loss: 0.6668 - val_accuracy: 0.5854\n",
      "\n",
      "Epoch 00002: LearningRateScheduler reducing learning rate to 0.0025.\n",
      "Epoch 2/5\n",
      "26/26 [==============================] - 20s 772ms/step - loss: 0.6483 - accuracy: 0.6363 - val_loss: 0.6440 - val_accuracy: 0.7463\n",
      "\n",
      "Epoch 00003: LearningRateScheduler reducing learning rate to 0.00125.\n",
      "Epoch 3/5\n",
      "26/26 [==============================] - 20s 765ms/step - loss: 0.6329 - accuracy: 0.7019 - val_loss: 0.6484 - val_accuracy: 0.6098\n",
      "\n",
      "Epoch 00004: LearningRateScheduler reducing learning rate to 0.000625.\n",
      "Epoch 4/5\n",
      "26/26 [==============================] - 20s 781ms/step - loss: 0.6268 - accuracy: 0.7117 - val_loss: 0.6425 - val_accuracy: 0.6293\n",
      "\n",
      "Epoch 00005: LearningRateScheduler reducing learning rate to 0.0003125.\n",
      "Epoch 5/5\n",
      "26/26 [==============================] - 20s 776ms/step - loss: 0.6228 - accuracy: 0.7360 - val_loss: 0.6430 - val_accuracy: 0.6244\n"
     ]
    },
    {
     "data": {
      "text/plain": [
       "<tensorflow.python.keras.callbacks.History at 0x78a737c34b90>"
      ]
     },
     "execution_count": 18,
     "metadata": {},
     "output_type": "execute_result"
    }
   ],
   "source": [
    "model = build_model(dense_units=256)\n",
    "model.compile(\n",
    "    optimizer='sgd',\n",
    "    loss='sparse_categorical_crossentropy', \n",
    "    metrics=['accuracy'])\n",
    "  \n",
    "def step_decay(epoch):\n",
    "\tinitial_lr = 0.01\n",
    "\tdrop = 0.5\n",
    "\tepochs_drop = 1\n",
    "\tlr = initial_lr * math.pow(drop, math.floor((1+epoch)/epochs_drop))\n",
    "\treturn lr\n",
    "\n",
    "model.fit(train_batches, \n",
    "          epochs=5, \n",
    "          validation_data=validation_batches, \n",
    "          callbacks=[LearningRateScheduler(step_decay, verbose=1),\n",
    "                    TensorBoard(log_dir='./log_dir')])"
   ]
  },
  {
   "cell_type": "code",
   "execution_count": 19,
   "metadata": {
    "colab": {},
    "colab_type": "code",
    "id": "M2S4n8nrbV91"
   },
   "outputs": [
    {
     "data": {
      "text/html": [
       "\n",
       "      <iframe id=\"tensorboard-frame-1bd4b8d9db63cd6f\" width=\"100%\" height=\"800\" frameborder=\"0\">\n",
       "      </iframe>\n",
       "      <script>\n",
       "        (function() {\n",
       "          const frame = document.getElementById(\"tensorboard-frame-1bd4b8d9db63cd6f\");\n",
       "          const url = new URL(\"/\", window.location);\n",
       "          url.port = 6006;\n",
       "          frame.src = url;\n",
       "        })();\n",
       "      </script>\n",
       "  "
      ],
      "text/plain": [
       "<IPython.core.display.HTML object>"
      ]
     },
     "metadata": {},
     "output_type": "display_data"
    }
   ],
   "source": [
    "%tensorboard --logdir log_dir"
   ]
  },
  {
   "cell_type": "markdown",
   "metadata": {
    "colab_type": "text",
    "id": "y0wcuQyJE_UK"
   },
   "source": [
    "## [ReduceLROnPlateau](https://keras.io/api/callbacks/reduce_lr_on_plateau/)\n",
    "\n",
    "Reduce learning rate when a metric has stopped improving."
   ]
  },
  {
   "cell_type": "code",
   "execution_count": 20,
   "metadata": {
    "colab": {},
    "colab_type": "code",
    "id": "4naxZ-eCFB27"
   },
   "outputs": [
    {
     "name": "stdout",
     "output_type": "stream",
     "text": [
      "Epoch 1/50\n",
      "26/26 [==============================] - 22s 828ms/step - loss: 0.6766 - accuracy: 0.5657 - val_loss: 0.7020 - val_accuracy: 0.4341\n",
      "Epoch 2/50\n",
      "26/26 [==============================] - 20s 777ms/step - loss: 0.6404 - accuracy: 0.6509 - val_loss: 0.6467 - val_accuracy: 0.5659\n",
      "Epoch 3/50\n",
      "26/26 [==============================] - 20s 769ms/step - loss: 0.5892 - accuracy: 0.7214 - val_loss: 0.5592 - val_accuracy: 0.7561\n",
      "Epoch 4/50\n",
      "25/26 [===========================>..] - ETA: 0s - loss: 0.5245 - accuracy: 0.7600\n",
      "Epoch 00004: ReduceLROnPlateau reducing learning rate to 0.0019999999552965165.\n",
      "26/26 [==============================] - 20s 765ms/step - loss: 0.5220 - accuracy: 0.7616 - val_loss: 0.6475 - val_accuracy: 0.5805\n",
      "Epoch 5/50\n",
      "26/26 [==============================] - 20s 777ms/step - loss: 0.4735 - accuracy: 0.7908 - val_loss: 0.4839 - val_accuracy: 0.8049\n",
      "Epoch 6/50\n",
      "26/26 [==============================] - 20s 769ms/step - loss: 0.4532 - accuracy: 0.8054 - val_loss: 0.4622 - val_accuracy: 0.7951\n",
      "Epoch 7/50\n",
      "26/26 [==============================] - 20s 769ms/step - loss: 0.4384 - accuracy: 0.8041 - val_loss: 0.4549 - val_accuracy: 0.8244\n",
      "Epoch 8/50\n",
      "26/26 [==============================] - 20s 773ms/step - loss: 0.4232 - accuracy: 0.8200 - val_loss: 0.4498 - val_accuracy: 0.8341\n",
      "Epoch 9/50\n",
      "26/26 [==============================] - 20s 773ms/step - loss: 0.4097 - accuracy: 0.8224 - val_loss: 0.4148 - val_accuracy: 0.8146\n",
      "Epoch 10/50\n",
      "25/26 [===========================>..] - ETA: 0s - loss: 0.4000 - accuracy: 0.8350\n",
      "Epoch 00010: ReduceLROnPlateau reducing learning rate to 0.001.\n",
      "26/26 [==============================] - 20s 785ms/step - loss: 0.3976 - accuracy: 0.8358 - val_loss: 0.4395 - val_accuracy: 0.8341\n",
      "Epoch 11/50\n",
      "26/26 [==============================] - 20s 773ms/step - loss: 0.3891 - accuracy: 0.8309 - val_loss: 0.3997 - val_accuracy: 0.8537\n",
      "Epoch 12/50\n",
      "26/26 [==============================] - 20s 765ms/step - loss: 0.3802 - accuracy: 0.8406 - val_loss: 0.3975 - val_accuracy: 0.8780\n",
      "Epoch 13/50\n",
      "26/26 [==============================] - 20s 784ms/step - loss: 0.3747 - accuracy: 0.8540 - val_loss: 0.3844 - val_accuracy: 0.8585\n",
      "Epoch 14/50\n",
      "26/26 [==============================] - 20s 762ms/step - loss: 0.3676 - accuracy: 0.8637 - val_loss: 0.3747 - val_accuracy: 0.8634\n",
      "Epoch 15/50\n",
      "25/26 [===========================>..] - ETA: 0s - loss: 0.3614 - accuracy: 0.8612\n",
      "Epoch 00015: ReduceLROnPlateau reducing learning rate to 0.001.\n",
      "26/26 [==============================] - 20s 777ms/step - loss: 0.3618 - accuracy: 0.8613 - val_loss: 0.3848 - val_accuracy: 0.8878\n",
      "Epoch 16/50\n",
      "26/26 [==============================] - 20s 781ms/step - loss: 0.3563 - accuracy: 0.8686 - val_loss: 0.3596 - val_accuracy: 0.8683\n",
      "Epoch 17/50\n",
      "25/26 [===========================>..] - ETA: 0s - loss: 0.3471 - accuracy: 0.8725\n",
      "Epoch 00017: ReduceLROnPlateau reducing learning rate to 0.001.\n",
      "26/26 [==============================] - 20s 777ms/step - loss: 0.3532 - accuracy: 0.8698 - val_loss: 0.3635 - val_accuracy: 0.8976\n",
      "Epoch 18/50\n",
      "26/26 [==============================] - 20s 781ms/step - loss: 0.3453 - accuracy: 0.8783 - val_loss: 0.3551 - val_accuracy: 0.9024\n",
      "Epoch 19/50\n",
      "26/26 [==============================] - 20s 765ms/step - loss: 0.3363 - accuracy: 0.8820 - val_loss: 0.3478 - val_accuracy: 0.9024\n",
      "Epoch 20/50\n",
      "26/26 [==============================] - 21s 791ms/step - loss: 0.3320 - accuracy: 0.8856 - val_loss: 0.3448 - val_accuracy: 0.9024\n",
      "Epoch 21/50\n",
      "25/26 [===========================>..] - ETA: 0s - loss: 0.3265 - accuracy: 0.8925\n",
      "Epoch 00021: ReduceLROnPlateau reducing learning rate to 0.001.\n",
      "26/26 [==============================] - 20s 762ms/step - loss: 0.3248 - accuracy: 0.8929 - val_loss: 0.3654 - val_accuracy: 0.8878\n",
      "Epoch 22/50\n",
      "26/26 [==============================] - 20s 758ms/step - loss: 0.3222 - accuracy: 0.8966 - val_loss: 0.3271 - val_accuracy: 0.9073\n",
      "Epoch 23/50\n",
      "26/26 [==============================] - 20s 776ms/step - loss: 0.3121 - accuracy: 0.9088 - val_loss: 0.3111 - val_accuracy: 0.8634\n",
      "Epoch 24/50\n",
      "26/26 [==============================] - 20s 762ms/step - loss: 0.3091 - accuracy: 0.8966 - val_loss: 0.3064 - val_accuracy: 0.9122\n",
      "Epoch 25/50\n",
      "26/26 [==============================] - 20s 770ms/step - loss: 0.3025 - accuracy: 0.9051 - val_loss: 0.2958 - val_accuracy: 0.8976\n",
      "Epoch 26/50\n",
      "25/26 [===========================>..] - ETA: 0s - loss: 0.2978 - accuracy: 0.9100\n",
      "Epoch 00026: ReduceLROnPlateau reducing learning rate to 0.001.\n",
      "26/26 [==============================] - 20s 776ms/step - loss: 0.2953 - accuracy: 0.9112 - val_loss: 0.3143 - val_accuracy: 0.9024\n",
      "Epoch 27/50\n",
      "26/26 [==============================] - 20s 770ms/step - loss: 0.2921 - accuracy: 0.9161 - val_loss: 0.2870 - val_accuracy: 0.9171\n",
      "Epoch 28/50\n",
      "26/26 [==============================] - 20s 773ms/step - loss: 0.2816 - accuracy: 0.9221 - val_loss: 0.2772 - val_accuracy: 0.9122\n",
      "Epoch 29/50\n",
      "26/26 [==============================] - 20s 766ms/step - loss: 0.2761 - accuracy: 0.9258 - val_loss: 0.2762 - val_accuracy: 0.9220\n",
      "Epoch 30/50\n",
      "26/26 [==============================] - 20s 777ms/step - loss: 0.2725 - accuracy: 0.9221 - val_loss: 0.2674 - val_accuracy: 0.9268\n",
      "Epoch 31/50\n",
      "26/26 [==============================] - 20s 777ms/step - loss: 0.2669 - accuracy: 0.9197 - val_loss: 0.2585 - val_accuracy: 0.9024\n",
      "Epoch 32/50\n",
      "25/26 [===========================>..] - ETA: 0s - loss: 0.2598 - accuracy: 0.9275\n",
      "Epoch 00032: ReduceLROnPlateau reducing learning rate to 0.001.\n",
      "26/26 [==============================] - 20s 773ms/step - loss: 0.2574 - accuracy: 0.9282 - val_loss: 0.2668 - val_accuracy: 0.9220\n",
      "Epoch 33/50\n",
      "26/26 [==============================] - 20s 771ms/step - loss: 0.2528 - accuracy: 0.9282 - val_loss: 0.2504 - val_accuracy: 0.9268\n",
      "Epoch 34/50\n",
      "25/26 [===========================>..] - ETA: 0s - loss: 0.2443 - accuracy: 0.9337\n",
      "Epoch 00034: ReduceLROnPlateau reducing learning rate to 0.001.\n",
      "26/26 [==============================] - 20s 764ms/step - loss: 0.2490 - accuracy: 0.9319 - val_loss: 0.2529 - val_accuracy: 0.9220\n",
      "Epoch 35/50\n",
      "26/26 [==============================] - 20s 766ms/step - loss: 0.2426 - accuracy: 0.9367 - val_loss: 0.2346 - val_accuracy: 0.9317\n",
      "Epoch 36/50\n",
      "26/26 [==============================] - 20s 780ms/step - loss: 0.2343 - accuracy: 0.9428 - val_loss: 0.2291 - val_accuracy: 0.9366\n",
      "Epoch 37/50\n",
      "25/26 [===========================>..] - ETA: 0s - loss: 0.2291 - accuracy: 0.9413\n",
      "Epoch 00037: ReduceLROnPlateau reducing learning rate to 0.001.\n",
      "26/26 [==============================] - 20s 750ms/step - loss: 0.2301 - accuracy: 0.9428 - val_loss: 0.2323 - val_accuracy: 0.9366\n",
      "Epoch 38/50\n",
      "26/26 [==============================] - 20s 777ms/step - loss: 0.2245 - accuracy: 0.9440 - val_loss: 0.2189 - val_accuracy: 0.9366\n",
      "Epoch 39/50\n",
      "26/26 [==============================] - 20s 766ms/step - loss: 0.2173 - accuracy: 0.9526 - val_loss: 0.2123 - val_accuracy: 0.9463\n",
      "Epoch 40/50\n",
      "25/26 [===========================>..] - ETA: 0s - loss: 0.2125 - accuracy: 0.9425\n",
      "Epoch 00040: ReduceLROnPlateau reducing learning rate to 0.001.\n",
      "26/26 [==============================] - 20s 773ms/step - loss: 0.2115 - accuracy: 0.9440 - val_loss: 0.2360 - val_accuracy: 0.9268\n",
      "Epoch 41/50\n",
      "25/26 [===========================>..] - ETA: 0s - loss: 0.2070 - accuracy: 0.9513\n",
      "Epoch 00041: ReduceLROnPlateau reducing learning rate to 0.001.\n",
      "26/26 [==============================] - 20s 774ms/step - loss: 0.2078 - accuracy: 0.9513 - val_loss: 0.2211 - val_accuracy: 0.9366\n",
      "Epoch 42/50\n",
      "26/26 [==============================] - 20s 776ms/step - loss: 0.2053 - accuracy: 0.9526 - val_loss: 0.1968 - val_accuracy: 0.9561\n",
      "Epoch 43/50\n",
      "26/26 [==============================] - 20s 773ms/step - loss: 0.1960 - accuracy: 0.9477 - val_loss: 0.1918 - val_accuracy: 0.9610\n",
      "Epoch 44/50\n",
      "26/26 [==============================] - 20s 777ms/step - loss: 0.1926 - accuracy: 0.9562 - val_loss: 0.1909 - val_accuracy: 0.9415\n",
      "Epoch 45/50\n",
      "25/26 [===========================>..] - ETA: 0s - loss: 0.1859 - accuracy: 0.9600\n",
      "Epoch 00045: ReduceLROnPlateau reducing learning rate to 0.001.\n",
      "26/26 [==============================] - 21s 792ms/step - loss: 0.1873 - accuracy: 0.9599 - val_loss: 0.2027 - val_accuracy: 0.9366\n"
     ]
    },
    {
     "name": "stdout",
     "output_type": "stream",
     "text": [
      "Epoch 46/50\n",
      "26/26 [==============================] - 20s 763ms/step - loss: 0.1807 - accuracy: 0.9623 - val_loss: 0.1835 - val_accuracy: 0.9463\n",
      "Epoch 47/50\n",
      "25/26 [===========================>..] - ETA: 0s - loss: 0.1758 - accuracy: 0.9638\n",
      "Epoch 00047: ReduceLROnPlateau reducing learning rate to 0.001.\n",
      "26/26 [==============================] - 20s 768ms/step - loss: 0.1758 - accuracy: 0.9647 - val_loss: 0.1881 - val_accuracy: 0.9366\n",
      "Epoch 48/50\n",
      "25/26 [===========================>..] - ETA: 0s - loss: 0.1728 - accuracy: 0.9675\n",
      "Epoch 00048: ReduceLROnPlateau reducing learning rate to 0.001.\n",
      "26/26 [==============================] - 20s 781ms/step - loss: 0.1725 - accuracy: 0.9684 - val_loss: 0.1878 - val_accuracy: 0.9366\n",
      "Epoch 49/50\n",
      "26/26 [==============================] - 20s 773ms/step - loss: 0.1692 - accuracy: 0.9659 - val_loss: 0.1713 - val_accuracy: 0.9512\n",
      "Epoch 50/50\n",
      "26/26 [==============================] - 20s 785ms/step - loss: 0.1635 - accuracy: 0.9672 - val_loss: 0.1651 - val_accuracy: 0.9561\n"
     ]
    },
    {
     "data": {
      "text/plain": [
       "<tensorflow.python.keras.callbacks.History at 0x78a73a2f1490>"
      ]
     },
     "execution_count": 20,
     "metadata": {},
     "output_type": "execute_result"
    }
   ],
   "source": [
    "model = build_model(dense_units=256)\n",
    "model.compile(\n",
    "    optimizer='sgd',\n",
    "    loss='sparse_categorical_crossentropy', \n",
    "    metrics=['accuracy'])\n",
    "  \n",
    "model.fit(train_batches, \n",
    "          epochs=50, \n",
    "          validation_data=validation_batches, \n",
    "          callbacks=[ReduceLROnPlateau(monitor='val_loss', \n",
    "                                       factor=0.2, verbose=1,\n",
    "                                       patience=1, min_lr=0.001),\n",
    "                     TensorBoard(log_dir='./log_dir')])"
   ]
  },
  {
   "cell_type": "code",
   "execution_count": 21,
   "metadata": {
    "colab": {},
    "colab_type": "code",
    "id": "isfTWP4NYudk"
   },
   "outputs": [
    {
     "data": {
      "text/plain": [
       "Reusing TensorBoard on port 6006 (pid 8436), started 0:16:48 ago. (Use '!kill 8436' to kill it.)"
      ]
     },
     "metadata": {},
     "output_type": "display_data"
    },
    {
     "data": {
      "text/html": [
       "\n",
       "      <iframe id=\"tensorboard-frame-506826e8aaee8971\" width=\"100%\" height=\"800\" frameborder=\"0\">\n",
       "      </iframe>\n",
       "      <script>\n",
       "        (function() {\n",
       "          const frame = document.getElementById(\"tensorboard-frame-506826e8aaee8971\");\n",
       "          const url = new URL(\"/\", window.location);\n",
       "          url.port = 6006;\n",
       "          frame.src = url;\n",
       "        })();\n",
       "      </script>\n",
       "  "
      ],
      "text/plain": [
       "<IPython.core.display.HTML object>"
      ]
     },
     "metadata": {},
     "output_type": "display_data"
    }
   ],
   "source": [
    "%tensorboard --logdir log_dir"
   ]
  },
  {
   "cell_type": "code",
   "execution_count": null,
   "metadata": {},
   "outputs": [],
   "source": []
  },
  {
   "cell_type": "code",
   "execution_count": null,
   "metadata": {},
   "outputs": [],
   "source": []
  },
  {
   "cell_type": "code",
   "execution_count": null,
   "metadata": {},
   "outputs": [],
   "source": []
  }
 ],
 "metadata": {
  "colab": {
   "collapsed_sections": [],
   "include_colab_link": true,
   "name": "ExploringCallbacks.ipynb",
   "provenance": []
  },
  "kernelspec": {
   "display_name": "Python 3",
   "language": "python",
   "name": "python3"
  },
  "language_info": {
   "codemirror_mode": {
    "name": "ipython",
    "version": 3
   },
   "file_extension": ".py",
   "mimetype": "text/x-python",
   "name": "python",
   "nbconvert_exporter": "python",
   "pygments_lexer": "ipython3",
   "version": "3.7.6"
  }
 },
 "nbformat": 4,
 "nbformat_minor": 4
}
